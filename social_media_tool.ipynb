{
  "nbformat": 4,
  "nbformat_minor": 0,
  "metadata": {
    "colab": {
      "name": "social_media_tool.ipynb",
      "provenance": [],
      "collapsed_sections": [],
      "authorship_tag": "ABX9TyNcwtomFO0wZ8P18By7cZyf",
      "include_colab_link": true
    },
    "kernelspec": {
      "name": "python3",
      "display_name": "Python 3"
    },
    "accelerator": "GPU"
  },
  "cells": [
    {
      "cell_type": "markdown",
      "metadata": {
        "id": "view-in-github",
        "colab_type": "text"
      },
      "source": [
        "<a href=\"https://colab.research.google.com/github/austindesosa/social_media_tools/blob/main/social_media_tool.ipynb\" target=\"_parent\"><img src=\"https://colab.research.google.com/assets/colab-badge.svg\" alt=\"Open In Colab\"/></a>"
      ]
    },
    {
      "cell_type": "markdown",
      "metadata": {
        "id": "YERoHEvVvbtE"
      },
      "source": [
        "This file is meant to combine 3 modules I have previously written -- pyramid, somed, and test_by_color.\n",
        "\n",
        "The file **pyramid.py** is for sound processing and speech-to-text. \n",
        "\n",
        "The file **somed.py** is to get information from popular social media platforms such as Instagram and GitHub.\n",
        "\n",
        "The file **test_by_color.py** is to quickly train and test neural networks to distinguish between colors. This is a dummy task to test network architectures.\n",
        "\n",
        "This file aims to combine these three into one tool to collect visual and sound data from the Internet and use it to train and test neural networks."
      ]
    },
    {
      "cell_type": "code",
      "metadata": {
        "id": "dus4fHZmvOaV"
      },
      "source": [
        "#Import built-in packages\n",
        "import os\n",
        "os.system('pip install -r requirements.txt')\n",
        "import glob\n",
        "import numpy as np\n",
        "import skimage.io as skio\n",
        "import json\n",
        "import pandas as pd\n",
        "import sqlite3 as sql\n",
        "\n",
        "import tensorflow as tf\n",
        "from tensorflow import keras\n",
        "import torch\n"
      ],
      "execution_count": 1,
      "outputs": []
    },
    {
      "cell_type": "code",
      "metadata": {
        "id": "I8e75WXm0jAj",
        "outputId": "c10bc903-21c2-4e1e-e0de-32e755512331",
        "colab": {
          "base_uri": "https://localhost:8080/",
          "height": 159
        }
      },
      "source": [
        "#Import other python modules in this directory\n",
        "import somed\n",
        "import pyramid as pyr\n",
        "import test_by_color as tbc\n",
        "import tf_cat as cat \n",
        "\n",
        "imread = np.vectorize(skio.imread)\n"
      ],
      "execution_count": 2,
      "outputs": [
        {
          "output_type": "stream",
          "text": [
            "Imageio: 'ffmpeg-linux64-v3.3.1' was not found on your computer; downloading it now.\n",
            "Try 1. Download from https://github.com/imageio/imageio-binaries/raw/master/ffmpeg/ffmpeg-linux64-v3.3.1 (43.8 MB)\n",
            "Downloading: 8192/45929032 bytes (0.0%)\b\b\b\b\b\b\b\b\b\b\b\b\b\b\b\b\b\b\b\b\b\b\b\b\b\b3973120/45929032 bytes (8.7%)\b\b\b\b\b\b\b\b\b\b\b\b\b\b\b\b\b\b\b\b\b\b\b\b\b\b\b\b\b8208384/45929032 bytes (17.9%)\b\b\b\b\b\b\b\b\b\b\b\b\b\b\b\b\b\b\b\b\b\b\b\b\b\b\b\b\b\b12328960/45929032 bytes (26.8%)\b\b\b\b\b\b\b\b\b\b\b\b\b\b\b\b\b\b\b\b\b\b\b\b\b\b\b\b\b\b\b16474112/45929032 bytes (35.9%)\b\b\b\b\b\b\b\b\b\b\b\b\b\b\b\b\b\b\b\b\b\b\b\b\b\b\b\b\b\b\b20348928/45929032 bytes (44.3%)\b\b\b\b\b\b\b\b\b\b\b\b\b\b\b\b\b\b\b\b\b\b\b\b\b\b\b\b\b\b\b24379392/45929032 bytes (53.1%)\b\b\b\b\b\b\b\b\b\b\b\b\b\b\b\b\b\b\b\b\b\b\b\b\b\b\b\b\b\b\b28409856/45929032 bytes (61.9%)\b\b\b\b\b\b\b\b\b\b\b\b\b\b\b\b\b\b\b\b\b\b\b\b\b\b\b\b\b\b\b32292864/45929032 bytes (70.3%)\b\b\b\b\b\b\b\b\b\b\b\b\b\b\b\b\b\b\b\b\b\b\b\b\b\b\b\b\b\b\b36495360/45929032 bytes (79.5%)\b\b\b\b\b\b\b\b\b\b\b\b\b\b\b\b\b\b\b\b\b\b\b\b\b\b\b\b\b\b\b40542208/45929032 bytes (88.3%)\b\b\b\b\b\b\b\b\b\b\b\b\b\b\b\b\b\b\b\b\b\b\b\b\b\b\b\b\b\b\b44687360/45929032 bytes (97.3%)\b\b\b\b\b\b\b\b\b\b\b\b\b\b\b\b\b\b\b\b\b\b\b\b\b\b\b\b\b\b\b45929032/45929032 bytes (100.0%)\n",
            "  Done\n",
            "File saved as /root/.imageio/ffmpeg/ffmpeg-linux64-v3.3.1.\n",
            "Downloading data from https://storage.googleapis.com/tensorflow/keras-applications/vgg16/vgg16_weights_tf_dim_ordering_tf_kernels_notop.h5\n",
            "58892288/58889256 [==============================] - 0s 0us/step\n"
          ],
          "name": "stdout"
        }
      ]
    },
    {
      "cell_type": "code",
      "metadata": {
        "id": "_wiocZgyDf6N",
        "outputId": "fb6c39a0-5442-4dab-9fda-b7d6a82fba54",
        "colab": {
          "base_uri": "https://localhost:8080/",
          "height": 35
        }
      },
      "source": [
        "IG_NAME = 'barackobama'\n",
        "somed.download_ig('barackobama')\n",
        "v_pathnames = glob.glob(f'/content/{IG_NAME}/*.jpg')\n",
        "v_mats = [skio.imread(x) for x in v_pathnames]\n",
        "v_shapes =[x.shape for x in v_mats]\n",
        "\n",
        "dxry = {'pathnames':v_pathnames,\n",
        "        'matrices': v_mats,\n",
        "        'shapes': v_shapes \n",
        "        }\n",
        "  "
      ],
      "execution_count": 3,
      "outputs": [
        {
          "output_type": "stream",
          "text": [
            "Files downloaded from Instagram profile barackobama\n"
          ],
          "name": "stdout"
        }
      ]
    },
    {
      "cell_type": "code",
      "metadata": {
        "id": "wOEegcUU_Qa-"
      },
      "source": [
        ""
      ],
      "execution_count": null,
      "outputs": []
    },
    {
      "cell_type": "code",
      "metadata": {
        "id": "ms_eVPW_HaD1"
      },
      "source": [
        "df = pd.DataFrame.from_dict(dxry)"
      ],
      "execution_count": 4,
      "outputs": []
    },
    {
      "cell_type": "code",
      "metadata": {
        "id": "unIj2yILHpg8",
        "outputId": "db07878e-bd8c-41f6-fede-ca977cb6bed3",
        "colab": {
          "base_uri": "https://localhost:8080/",
          "height": 381
        }
      },
      "source": [
        "unique_shapes =df.shapes.unique()\n",
        "unique_shapes"
      ],
      "execution_count": 5,
      "outputs": [
        {
          "output_type": "execute_result",
          "data": {
            "text/plain": [
              "array([(960, 960, 3), (612, 612, 3), (640, 640, 3), (682, 1024, 3),\n",
              "       (1079, 1080, 3), (439, 439, 3), (1080, 1080, 3), (720, 720, 3),\n",
              "       (720, 1080, 3), (682, 843, 3), (1350, 1080, 3), (1219, 1080, 3),\n",
              "       (718, 1080, 3), (688, 1080, 3), (763, 763, 3), (683, 683, 3),\n",
              "       (940, 940, 3), (433, 650, 3), (1077, 1080, 3), (1280, 720, 3),\n",
              "       (1080, 607, 3), (683, 1024, 3), (722, 1080, 3), (749, 1080, 3),\n",
              "       (1059, 1080, 3), (717, 1080, 3), (500, 500, 3), (405, 720, 3),\n",
              "       (1523, 857, 3), (1920, 1080, 3), (719, 1080, 3), (426, 426, 3),\n",
              "       (1000, 1000, 3), (150, 150, 3), (908, 908, 3), (1068, 602, 3),\n",
              "       (724, 1080, 3), (999, 999, 3), (853, 480, 3), (719, 406, 3),\n",
              "       (696, 696, 3), (853, 1080, 3), (788, 940, 3), (770, 434, 3),\n",
              "       (607, 1080, 3), (575, 841, 3), (686, 1080, 3), (800, 640, 3),\n",
              "       (344, 612, 3), (360, 640, 3), (664, 998, 3), (809, 1080, 3),\n",
              "       (542, 542, 3), (788, 788, 3), (702, 1080, 3), (683, 725, 3),\n",
              "       (1024, 1024, 3), (721, 1080, 3), (738, 1080, 3), (716, 1080, 3),\n",
              "       (433, 647, 3), (692, 1080, 3), (905, 1080, 3), (776, 1080, 3),\n",
              "       (224, 335, 3), (768, 1024, 3), (925, 1080, 3), (773, 773, 3),\n",
              "       (994, 997, 3), (887, 1080, 3), (761, 1080, 3), (1234, 1080, 3),\n",
              "       (459, 686, 3), (880, 496, 3), (709, 1036, 3), (696, 1080, 3),\n",
              "       (1036, 1036, 3), (904, 1080, 3), (240, 320, 3), (778, 1080, 3)],\n",
              "      dtype=object)"
            ]
          },
          "metadata": {
            "tags": []
          },
          "execution_count": 5
        }
      ]
    },
    {
      "cell_type": "code",
      "metadata": {
        "id": "PMooxJnW8Njl",
        "outputId": "10458bbb-6502-4e4a-a800-e861773edf51",
        "colab": {
          "base_uri": "https://localhost:8080/",
          "height": 52
        }
      },
      "source": [
        "def height_one(tup):\n",
        "  return tup[0]\n",
        "\n",
        "def width_one(tup):\n",
        "  return tup[1]\n",
        "\n",
        "height_vec, width_vec = np.vectorize(height_one), np.vectorize(width_one)\n",
        "\n",
        "max_height = np.amax(height_vec(unique_shapes))\n",
        "max_width = np.amax(width_vec(unique_shapes))\n",
        "\n",
        "print(f'max_height = {max_height}\\nmax_width = {max_width}')"
      ],
      "execution_count": 10,
      "outputs": [
        {
          "output_type": "stream",
          "text": [
            "max_height = 1920\n",
            "max_width = 1080\n"
          ],
          "name": "stdout"
        }
      ]
    }
  ]
}